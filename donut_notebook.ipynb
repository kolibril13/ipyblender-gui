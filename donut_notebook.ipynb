{
 "cells": [
  {
   "cell_type": "code",
   "execution_count": 1,
   "id": "9891510e-e056-4155-a865-69da83a6c93f",
   "metadata": {},
   "outputs": [
    {
     "name": "stdout",
     "output_type": "stream",
     "text": [
      "hi\n"
     ]
    }
   ],
   "source": [
    "print(\"hi\")"
   ]
  },
  {
   "cell_type": "code",
   "execution_count": 2,
   "id": "624cb82a-104f-4173-890a-d9cc1d8f019c",
   "metadata": {},
   "outputs": [
    {
     "name": "stdout",
     "output_type": "stream",
     "text": [
      "Read blend: \"/Users/jan-hendrik/projects/ipyblender-gui/my_donut.blend\"\n"
     ]
    },
    {
     "data": {
      "text/plain": [
       "{'FINISHED'}"
      ]
     },
     "execution_count": 2,
     "metadata": {},
     "output_type": "execute_result"
    }
   ],
   "source": [
    "import bpy\n",
    "\n",
    "file_path = 'my_donut.blend'\n",
    "\n",
    "# Load the specified Blender file\n",
    "bpy.ops.wm.open_mainfile(filepath=file_path)\n"
   ]
  },
  {
   "cell_type": "code",
   "execution_count": 3,
   "id": "255ec9c6-e1fe-41c9-acdd-7255a10dc058",
   "metadata": {},
   "outputs": [
    {
     "name": "stdout",
     "output_type": "stream",
     "text": [
      "ICINGLong is now hidden in the viewport.\n"
     ]
    }
   ],
   "source": [
    "import bpy\n",
    "\n",
    "obj = bpy.data.objects.get(\"ICINGLong\")\n",
    "\n",
    "if obj:\n",
    "    # Toggle the hide_viewport flag to invert its current state\n",
    "    obj.hide_viewport = not obj.hide_viewport\n",
    "    if obj.hide_viewport:\n",
    "        print(\"ICINGLong is now hidden in the viewport.\")\n",
    "    else:\n",
    "        print(\"ICINGLong is now visible in the viewport.\")"
   ]
  },
  {
   "cell_type": "code",
   "execution_count": 4,
   "id": "dfb3a329-6e79-49f6-ac33-400ab68cf9b9",
   "metadata": {},
   "outputs": [
    {
     "name": "stdout",
     "output_type": "stream",
     "text": [
      "Switched to Eevee rendering engine.\n"
     ]
    }
   ],
   "source": [
    "import bpy\n",
    "\n",
    "# Get the current scene\n",
    "scene = bpy.context.scene\n",
    "\n",
    "# Check the current rendering engine and switch to the other\n",
    "if scene.render.engine == 'BLENDER_EEVEE':\n",
    "    scene.render.engine = 'CYCLES'\n",
    "    print(\"Switched to Cycles rendering engine.\")\n",
    "else:\n",
    "    scene.render.engine = 'BLENDER_EEVEE'\n",
    "    print(\"Switched to Eevee rendering engine.\")\n"
   ]
  },
  {
   "cell_type": "code",
   "execution_count": null,
   "id": "5b03ce34-1446-47d8-a306-e76913bd6f7e",
   "metadata": {},
   "outputs": [],
   "source": []
  },
  {
   "cell_type": "code",
   "execution_count": null,
   "id": "a5d33851-538f-4451-8ad4-dcf58e4d260e",
   "metadata": {},
   "outputs": [],
   "source": []
  }
 ],
 "metadata": {
  "kernelspec": {
   "display_name": "blender",
   "language": "python",
   "name": "blender"
  },
  "language_info": {
   "codemirror_mode": {
    "name": "ipython",
    "version": 3
   },
   "file_extension": ".py",
   "mimetype": "text/x-python",
   "name": "python",
   "nbconvert_exporter": "python",
   "pygments_lexer": "ipython3",
   "version": "3.11.7"
  }
 },
 "nbformat": 4,
 "nbformat_minor": 5
}
