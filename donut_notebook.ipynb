{
 "cells": [
  {
   "cell_type": "code",
   "execution_count": 1,
   "id": "624cb82a-104f-4173-890a-d9cc1d8f019c",
   "metadata": {},
   "outputs": [
    {
     "name": "stdout",
     "output_type": "stream",
     "text": [
      "Read blend: \"/Users/jan-hendrik/projects/ipyblender-gui/my_donut.blend\"\n"
     ]
    },
    {
     "data": {
      "text/plain": [
       "{'FINISHED'}"
      ]
     },
     "execution_count": 1,
     "metadata": {},
     "output_type": "execute_result"
    }
   ],
   "source": [
    "import bpy\n",
    "\n",
    "bpy.ops.wm.open_mainfile(filepath='my_donut.blend')"
   ]
  },
  {
   "cell_type": "code",
   "execution_count": 2,
   "id": "2c9ee318-b1c9-43dc-ad6b-fdcaf380d498",
   "metadata": {},
   "outputs": [],
   "source": [
    "def show(obj):\n",
    "    bpy.data.objects.get(obj).hide_viewport = False\n",
    "def hide(obj):\n",
    "    bpy.data.objects.get(obj).hide_viewport = True\n",
    "show(\"DonutLong\")"
   ]
  },
  {
   "cell_type": "code",
   "execution_count": 3,
   "id": "a5d33851-538f-4451-8ad4-dcf58e4d260e",
   "metadata": {},
   "outputs": [],
   "source": [
    "show(\"MyIcing\")"
   ]
  },
  {
   "cell_type": "code",
   "execution_count": 4,
   "id": "4522276e-5a94-4027-beaf-a64c8f68498b",
   "metadata": {},
   "outputs": [],
   "source": [
    "hide(\"MyIcing\")\n",
    "show(\"MyIcingText\")"
   ]
  },
  {
   "cell_type": "code",
   "execution_count": 5,
   "id": "7727f67a-f962-4adf-a6f7-33cd27d0e093",
   "metadata": {},
   "outputs": [],
   "source": [
    "donut_text = bpy.context.object.modifiers[\"GeometryNodes\"]\n",
    "donut_text[\"Socket_9\"] = \"Hello\"\n",
    "bpy.context.object.data.update()"
   ]
  },
  {
   "cell_type": "code",
   "execution_count": 6,
   "id": "8de972cb-1bed-45db-a13c-10379d2d1d13",
   "metadata": {},
   "outputs": [],
   "source": [
    "donut_text[\"Socket_9\"] = \"Blender\"\n",
    "bpy.context.object.data.update()"
   ]
  },
  {
   "cell_type": "code",
   "execution_count": null,
   "id": "05130b2c-6d8e-4794-9936-80e0957dd4c3",
   "metadata": {},
   "outputs": [],
   "source": [
    "hide(\"MyIcing\")\n",
    "hide(\"MyIcingText\")\n",
    "hide(\"DonutLong\")"
   ]
  }
 ],
 "metadata": {
  "kernelspec": {
   "display_name": "blender",
   "language": "python",
   "name": "blender"
  },
  "language_info": {
   "codemirror_mode": {
    "name": "ipython",
    "version": 3
   },
   "file_extension": ".py",
   "mimetype": "text/x-python",
   "name": "python",
   "nbconvert_exporter": "python",
   "pygments_lexer": "ipython3",
   "version": "3.11.7"
  }
 },
 "nbformat": 4,
 "nbformat_minor": 5
}
