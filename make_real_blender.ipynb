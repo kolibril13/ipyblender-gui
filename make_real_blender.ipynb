{
 "cells": [
  {
   "cell_type": "code",
   "execution_count": null,
   "id": "153e0d85-0304-4678-b87a-b41dd28f7501",
   "metadata": {},
   "outputs": [],
   "source": [
    "from tldraw import MakeReal\n",
    "from api_key import api_key\n",
    "\n",
    "custom_prompt =  f\"\"\"\n",
    "Use the bpy API to generate a blender scene.\n",
    "In the providied image, you will see how the scene should look like.\n",
    "Use text premitives to add the desired shapes and their colors.\n",
    "\n",
    "Reply ONLY with python code.\n",
    "\"\"\"\n",
    "\n",
    "\n",
    "m = MakeReal(width=450, height = 400, api_key = api_key, prompt = custom_prompt , run_next_cell = True)\n",
    "m"
   ]
  }
 ],
 "metadata": {
  "kernelspec": {
   "display_name": "blender",
   "language": "python",
   "name": "blender"
  },
  "language_info": {
   "codemirror_mode": {
    "name": "ipython",
    "version": 3
   },
   "file_extension": ".py",
   "mimetype": "text/x-python",
   "name": "python",
   "nbconvert_exporter": "python",
   "pygments_lexer": "ipython3",
   "version": "3.11.7"
  }
 },
 "nbformat": 4,
 "nbformat_minor": 5
}
