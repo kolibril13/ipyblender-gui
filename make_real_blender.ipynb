{
 "cells": [
  {
   "cell_type": "code",
   "execution_count": 1,
   "id": "153e0d85-0304-4678-b87a-b41dd28f7501",
   "metadata": {},
   "outputs": [
    {
     "data": {
      "application/vnd.jupyter.widget-view+json": {
       "model_id": "2bbd9cdfa2fb441cb29f257142893e80",
       "version_major": 2,
       "version_minor": 1
      },
      "text/plain": [
       "MakeReal Widget"
      ]
     },
     "execution_count": 1,
     "metadata": {},
     "output_type": "execute_result"
    }
   ],
   "source": [
    "from tldraw import MakeReal\n",
    "from api_key import api_key\n",
    "\n",
    "\n",
    "custom_prompt =  f\"\"\"\n",
    "\n",
    "In the providied image, you will see how a blender scene should look like.\n",
    "Please try to generate this scene in Blender.\n",
    "Use the bpy API to generate for that.\n",
    "Red text and red arrows will describe the scene.\n",
    "Don't add the text and arrow itself.\n",
    "Instead, try to understand the image.\n",
    "Add colors and materials.\n",
    "Also add the annotations on the object.\n",
    "Reply ONLY with python code.  \n",
    "\"\"\"\n",
    "\n",
    "\n",
    "\n",
    "m = MakeReal(width=650, height = 400, api_key = api_key, prompt = custom_prompt , run_next_cell = True)\n",
    "m"
   ]
  }
 ],
 "metadata": {
  "kernelspec": {
   "display_name": "blender",
   "language": "python",
   "name": "blender"
  },
  "language_info": {
   "codemirror_mode": {
    "name": "ipython",
    "version": 3
   },
   "file_extension": ".py",
   "mimetype": "text/x-python",
   "name": "python",
   "nbconvert_exporter": "python",
   "pygments_lexer": "ipython3",
   "version": "3.11.7"
  }
 },
 "nbformat": 4,
 "nbformat_minor": 5
}
