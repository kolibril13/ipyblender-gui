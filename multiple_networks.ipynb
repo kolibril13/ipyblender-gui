{
 "cells": [
  {
   "cell_type": "code",
   "execution_count": 1,
   "id": "2d393016-bdcd-4205-8c12-b1e8ef94cfb1",
   "metadata": {},
   "outputs": [
    {
     "name": "stdout",
     "output_type": "stream",
     "text": [
      "Read blend: \"/Users/jan-hendrik/projects/ipyblender-gui/group_network.blend\"\n"
     ]
    },
    {
     "data": {
      "text/plain": [
       "{'FINISHED'}"
      ]
     },
     "execution_count": 1,
     "metadata": {},
     "output_type": "execute_result"
    },
    {
     "name": "stdout",
     "output_type": "stream",
     "text": [
      "Info: Saved \"group_network.blend\"\n",
      "\n",
      "Info: Saved \"group_network.blend\"\n",
      "\n",
      "Info: Saved \"group_network.blend\"\n",
      "\n"
     ]
    },
    {
     "name": "stderr",
     "output_type": "stream",
     "text": [
      "Traceback (most recent call last):\n",
      "  File \"/Users/jan-hendrik/Library/Application Support/Blender/4.1/scripts/addons/molecularnodes/ui/ops.py\", line 52, in poll\n",
      "    return mol.mn['molecule_type'] in ['pdb', 'local']\n",
      "           ~~~~~~^^^^^^^^^^^^^^^^^\n",
      "KeyError: 'bpy_struct[key]: key \"molecule_type\" not found'\n",
      "Traceback (most recent call last):\n",
      "  File \"/Users/jan-hendrik/Library/Application Support/Blender/4.1/scripts/addons/molecularnodes/ui/ops.py\", line 52, in poll\n",
      "    return mol.mn['molecule_type'] in ['pdb', 'local']\n",
      "           ~~~~~~^^^^^^^^^^^^^^^^^\n",
      "KeyError: 'bpy_struct[key]: key \"molecule_type\" not found'\n"
     ]
    }
   ],
   "source": [
    "import bpy\n",
    "blend_file_path = \"group_network.blend\"\n",
    "bpy.ops.wm.open_mainfile(filepath=blend_file_path)"
   ]
  },
  {
   "cell_type": "code",
   "execution_count": 3,
   "id": "7689df76",
   "metadata": {},
   "outputs": [],
   "source": [
    "import networkx as nx\n",
    "import bpy\n",
    "\n",
    "# Create the Tutte graph and calculate node positions\n",
    "G = nx.tutte_graph()\n",
    "node_positions = nx.spring_layout(G, dim=3, scale=2)\n",
    "edges = list(G.edges)\n",
    "\n",
    "def draw_network():\n",
    "\n",
    "    # Function to delete all objects in a collection\n",
    "    def clear_collection(collection):\n",
    "        for obj in collection.objects:\n",
    "            bpy.data.objects.remove(obj, do_unlink=True)\n",
    "    \n",
    "    # Function to get or create a collection\n",
    "    def get_or_create_collection(name, parent=None):\n",
    "        collection = bpy.data.collections.get(name)\n",
    "        if not collection:\n",
    "            collection = bpy.data.collections.new(name)\n",
    "            if parent:\n",
    "                parent.children.link(collection)\n",
    "        else:\n",
    "            clear_collection(collection)\n",
    "        return collection\n",
    "    \n",
    "    # Get or create the \"Graph\" collection and its children \"Nodes\" and \"Edges\"\n",
    "    graph_collection = get_or_create_collection(\"Graph\", bpy.context.scene.collection)\n",
    "    edges_collection = get_or_create_collection(\"Edges\", graph_collection)\n",
    "    nodes_collection = get_or_create_collection(\"Nodes\", graph_collection)\n",
    "    \n",
    "    # Clear the Nodes collection\n",
    "    clear_collection(nodes_collection)\n",
    "    \n",
    "    # Create spheres at the points and add them to the Nodes collection\n",
    "    spheres = {}\n",
    "    material = bpy.data.materials.get(\"Material1\")\n",
    "    \n",
    "    for key, coords in node_positions.items():\n",
    "        bpy.ops.mesh.primitive_uv_sphere_add(location=coords, radius=0.1)\n",
    "        sphere = bpy.context.object\n",
    "        sphere.name = f\"my_point{key}\"\n",
    "        if material:\n",
    "            sphere.data.materials.append(material)\n",
    "        nodes_collection.objects.link(sphere)\n",
    "        bpy.context.collection.objects.unlink(sphere)\n",
    "        spheres[key] = sphere\n",
    "    \n",
    "    # Create plane objects at the center of each edge and add geometry nodes modifier\n",
    "    for i, (edge1, edge2) in enumerate(edges):\n",
    "        bpy.ops.mesh.primitive_plane_add(size=0.2)  \n",
    "        plane = bpy.context.object\n",
    "        plane.name = f\"edge{i+1}\"\n",
    "        edges_collection.objects.link(plane)\n",
    "        bpy.context.collection.objects.unlink(plane)\n",
    "        \n",
    "        node_group = bpy.data.node_groups.get(\"connector_goenode\")\n",
    "        modifier = plane.modifiers.new(name=\"Connect\", type='NODES')\n",
    "        modifier.node_group = node_group \n",
    "        \n",
    "        # Set the Group input node to point to the corresponding spheres\n",
    "        sphere1 = bpy.data.objects.get(f\"my_point{edge1}\")\n",
    "        sphere2 = bpy.data.objects.get(f\"my_point{edge2}\")\n",
    "        \n",
    "        modifier[\"Socket_2\"] = sphere1\n",
    "        modifier[\"Socket_3\"] = sphere2\n",
    "        if material:\n",
    "            modifier[\"Socket_4\"] = material\n",
    "\n",
    "# Call the function to draw the network\n",
    "draw_network(scale=6)"
   ]
  }
 ],
 "metadata": {
  "kernelspec": {
   "display_name": "blender",
   "language": "python",
   "name": "blender"
  },
  "language_info": {
   "codemirror_mode": {
    "name": "ipython",
    "version": 3
   },
   "file_extension": ".py",
   "mimetype": "text/x-python",
   "name": "python",
   "nbconvert_exporter": "python",
   "pygments_lexer": "ipython3",
   "version": "3.11.7"
  }
 },
 "nbformat": 4,
 "nbformat_minor": 5
}
