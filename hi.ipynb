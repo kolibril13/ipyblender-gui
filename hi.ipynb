{
 "cells": [
  {
   "cell_type": "code",
   "execution_count": 2,
   "metadata": {},
   "outputs": [
    {
     "data": {
      "text/plain": [
       "{'FINISHED'}"
      ]
     },
     "execution_count": 2,
     "metadata": {},
     "output_type": "execute_result"
    }
   ],
   "source": [
    "import bpy\n",
    "\n",
    "bpy.ops.mesh.primitive_torus_add(major_radius=2, minor_radius=1)"
   ]
  },
  {
   "cell_type": "code",
   "execution_count": null,
   "metadata": {},
   "outputs": [],
   "source": []
  },
  {
   "cell_type": "code",
   "execution_count": 3,
   "metadata": {},
   "outputs": [],
   "source": [
    "import bpy\n",
    "\n",
    "# Add the torus\n",
    "bpy.ops.mesh.primitive_torus_add(major_radius=2, minor_radius=1)\n",
    "\n",
    "# Get the created torus\n",
    "torus = bpy.context.object\n",
    "\n",
    "# Add a displacement modifier\n",
    "displace_mod = torus.modifiers.new(\"Displace\", 'DISPLACE')\n",
    "\n",
    "# Create a new texture\n",
    "texture = bpy.data.textures.new(\"Texture\", 'CLOUDS')\n",
    "\n",
    "# Set the texture to the displacement modifier\n",
    "displace_mod.texture = texture\n",
    "\n",
    "# Set the strength of the displacement (change this value to make the surface more or less bumpy)\n",
    "displace_mod.strength = 0.2"
   ]
  },
  {
   "cell_type": "code",
   "execution_count": 4,
   "metadata": {},
   "outputs": [],
   "source": [
    "import bpy\n",
    "\n",
    "# Add the torus\n",
    "bpy.ops.mesh.primitive_torus_add(major_radius=2, minor_radius=1)\n",
    "\n",
    "# Get the created torus\n",
    "torus = bpy.context.object\n",
    "\n",
    "# Add a subdivision surface modifier\n",
    "subsurf_mod = torus.modifiers.new(\"Subsurf\", 'SUBSURF')\n",
    "subsurf_mod.levels = 2\n",
    "subsurf_mod.render_levels = 2\n",
    "\n",
    "# Add a displacement modifier\n",
    "displace_mod = torus.modifiers.new(\"Displace\", 'DISPLACE')\n",
    "\n",
    "# Create a new texture\n",
    "texture = bpy.data.textures.new(\"Texture\", 'CLOUDS')\n",
    "\n",
    "# Set the texture to the displacement modifier\n",
    "displace_mod.texture = texture\n",
    "\n",
    "# Set the strength of the displacement (change this value to make the surface more or less bumpy)\n",
    "displace_mod.strength = 0.2"
   ]
  },
  {
   "cell_type": "code",
   "execution_count": 5,
   "metadata": {},
   "outputs": [
    {
     "data": {
      "text/plain": [
       "{'FINISHED'}"
      ]
     },
     "execution_count": 5,
     "metadata": {},
     "output_type": "execute_result"
    }
   ],
   "source": [
    "import bpy\n",
    "\n",
    "# Add the torus\n",
    "bpy.ops.mesh.primitive_torus_add(major_radius=2, minor_radius=1)\n",
    "\n",
    "# Get the created torus\n",
    "torus = bpy.context.object\n",
    "\n",
    "# Add a subdivision surface modifier\n",
    "subsurf_mod = torus.modifiers.new(\"Subsurf\", 'SUBSURF')\n",
    "subsurf_mod.levels = 2\n",
    "subsurf_mod.render_levels = 2\n",
    "\n",
    "# Add a displacement modifier\n",
    "displace_mod = torus.modifiers.new(\"Displace\", 'DISPLACE')\n",
    "\n",
    "# Create a new texture\n",
    "texture = bpy.data.textures.new(\"Texture\", 'CLOUDS')\n",
    "\n",
    "# Set the texture to the displacement modifier\n",
    "displace_mod.texture = texture\n",
    "\n",
    "# Set the strength of the displacement (change this value to make the surface more or less bumpy)\n",
    "displace_mod.strength = 0.2\n",
    "\n",
    "# Make the surface smooth\n",
    "bpy.ops.object.shade_smooth()"
   ]
  },
  {
   "cell_type": "code",
   "execution_count": 6,
   "metadata": {},
   "outputs": [
    {
     "data": {
      "text/plain": [
       "{'FINISHED'}"
      ]
     },
     "execution_count": 6,
     "metadata": {},
     "output_type": "execute_result"
    }
   ],
   "source": [
    "import bpy\n",
    "\n",
    "# Add the torus\n",
    "bpy.ops.mesh.primitive_torus_add(major_radius=2, minor_radius=1)\n",
    "\n",
    "# Get the created torus and assign it to my_donut\n",
    "my_donut = bpy.context.object\n",
    "\n",
    "# Add a subdivision surface modifier\n",
    "subsurf_mod = my_donut.modifiers.new(\"Subsurf\", 'SUBSURF')\n",
    "subsurf_mod.levels = 2\n",
    "subsurf_mod.render_levels = 2\n",
    "\n",
    "# Add a displacement modifier\n",
    "displace_mod = my_donut.modifiers.new(\"Displace\", 'DISPLACE')\n",
    "\n",
    "# Create a new texture\n",
    "texture = bpy.data.textures.new(\"Texture\", 'CLOUDS')\n",
    "\n",
    "# Set the texture to the displacement modifier\n",
    "displace_mod.texture = texture\n",
    "\n",
    "# Set the strength of the displacement (change this value to make the surface more or less bumpy)\n",
    "displace_mod.strength = 0.2\n",
    "\n",
    "# Make the surface smooth\n",
    "bpy.ops.object.shade_smooth()"
   ]
  },
  {
   "cell_type": "code",
   "execution_count": 7,
   "metadata": {},
   "outputs": [],
   "source": [
    "import bpy\n",
    "\n",
    "# Create a new material\n",
    "material = bpy.data.materials.new(name=\"DonutMaterial\")\n",
    "\n",
    "# Set the material's diffuse color\n",
    "material.diffuse_color = (0.8, 0.4, 0.1, 1)  # RGB and alpha\n",
    "\n",
    "# Assign the material to the donut\n",
    "my_donut.data.materials.append(material)"
   ]
  },
  {
   "cell_type": "code",
   "execution_count": 8,
   "metadata": {},
   "outputs": [],
   "source": [
    "import bpy\n",
    "import random\n",
    "\n",
    "# Create a new material for the sparkles\n",
    "sparkle_material = bpy.data.materials.new(name=\"SparkleMaterial\")\n",
    "\n",
    "# Set the material's diffuse color to a chocolate color\n",
    "sparkle_material.diffuse_color = (0.4, 0.2, 0.1, 1)  # RGB and alpha\n",
    "\n",
    "# Define the number of sparkles\n",
    "num_sparkles = 300  # Increase this number for more sparkles\n",
    "\n",
    "# Loop to create sparkles\n",
    "for _ in range(num_sparkles):\n",
    "    # Create a small sphere (sparkle)\n",
    "    bpy.ops.mesh.primitive_uv_sphere_add(radius=0.07)\n",
    "\n",
    "    # Get the created sparkle\n",
    "    sparkle = bpy.context.object\n",
    "\n",
    "    # Assign the sparkle material to the sparkle\n",
    "    sparkle.data.materials.append(sparkle_material)\n",
    "\n",
    "    # Generate a random location for the sparkle\n",
    "    location = (random.uniform(-2, 2), random.uniform(-2, 2), random.uniform(0, 2))\n",
    "\n",
    "    # Cast a ray from the location towards the donut\n",
    "    hit, location, normal, index = my_donut.ray_cast(location, (0, 0, -1))\n",
    "\n",
    "    # If the ray hit the donut, place the sparkle at the hit location\n",
    "    if hit:\n",
    "        sparkle.location = location"
   ]
  },
  {
   "cell_type": "code",
   "execution_count": 9,
   "metadata": {},
   "outputs": [
    {
     "data": {
      "text/plain": [
       "bpy.data.objects['Sphere.299']"
      ]
     },
     "execution_count": 9,
     "metadata": {},
     "output_type": "execute_result"
    }
   ],
   "source": [
    "my_donut = bpy.context.object\n",
    "my_donut"
   ]
  },
  {
   "cell_type": "code",
   "execution_count": null,
   "metadata": {},
   "outputs": [],
   "source": []
  }
 ],
 "metadata": {
  "kernelspec": {
   "display_name": "blender",
   "language": "python",
   "name": "blender"
  },
  "language_info": {
   "codemirror_mode": {
    "name": "ipython",
    "version": 3
   },
   "file_extension": ".py",
   "mimetype": "text/x-python",
   "name": "python",
   "nbconvert_exporter": "python",
   "pygments_lexer": "ipython3",
   "version": "3.11.7"
  }
 },
 "nbformat": 4,
 "nbformat_minor": 4
}
